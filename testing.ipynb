{
 "cells": [
  {
   "cell_type": "code",
   "execution_count": 45,
   "metadata": {},
   "outputs": [
    {
     "name": "stdout",
     "output_type": "stream",
     "text": [
      "The autoreload extension is already loaded. To reload it, use:\n",
      "  %reload_ext autoreload\n"
     ]
    }
   ],
   "source": [
    "import availability_scraper as AS\n",
    "import numpy as np\n",
    "\n",
    "%load_ext autoreload\n",
    "%autoreload 2"
   ]
  },
  {
   "cell_type": "code",
   "execution_count": 81,
   "metadata": {},
   "outputs": [],
   "source": [
    "# load \n",
    "Ids_to_scrape=list(map(int, list(np.genfromtxt('ultra_ids_to_scrape.csv', delimiter=','))))\n",
    "\n",
    "#result = AS.get_availability(Ids_to_scrape)\n",
    "\n",
    "#results_avail=AS.set_up_threads_avail(Ids_to_scrape,7)\n",
    "\n",
    "#df=AS.into_DataFrame(Ids_to_scrape, results_avail)\n",
    "\n",
    "AS.save_DataFrame_to_csv(df, 'ultra')\n",
    "\n"
   ]
  },
  {
   "cell_type": "code",
   "execution_count": 80,
   "metadata": {},
   "outputs": [
    {
     "data": {
      "text/plain": [
       "'hello'"
      ]
     },
     "execution_count": 80,
     "metadata": {},
     "output_type": "execute_result"
    }
   ],
   "source": [
    "import os\n",
    "\n",
    "\n",
    "os.path.join(\"hello\") "
   ]
  },
  {
   "cell_type": "code",
   "execution_count": 71,
   "metadata": {},
   "outputs": [
    {
     "name": "stdout",
     "output_type": "stream",
     "text": [
      "11514\n",
      "12320\n",
      "12949\n",
      "12950\n",
      "10000034\n",
      "10000034\n",
      "10000035\n",
      "10000036\n",
      "10000037\n",
      "10000038\n",
      "10000039\n",
      "10000040\n",
      "10000041\n",
      "10000042\n",
      "10000043\n",
      "10000044\n",
      "10000045\n",
      "10000047\n",
      "10000049\n",
      "10000086\n",
      "10000086\n",
      "10000257\n"
     ]
    }
   ],
   "source": [
    "for i in Ids_to_scrape:\n",
    "    print(i)"
   ]
  },
  {
   "cell_type": "code",
   "execution_count": 72,
   "metadata": {},
   "outputs": [
    {
     "data": {
      "text/plain": [
       "[{11514: {'CCS DC 150kW (ultra)': ['1',\n",
       "    '4',\n",
       "    datetime.datetime(2022, 3, 29, 17, 12, 22, 907620)]},\n",
       "  12320: {'CCS DC 150kW (ultra)': ['0',\n",
       "    '4',\n",
       "    datetime.datetime(2022, 3, 29, 17, 12, 31, 32586)]},\n",
       "  12949: {'CCS DC 150kW (ultra)': ['0',\n",
       "    '16',\n",
       "    datetime.datetime(2022, 3, 29, 17, 12, 39, 944559)]},\n",
       "  12950: {'CCS DC 150kW (ultra)': ['8',\n",
       "    '8',\n",
       "    datetime.datetime(2022, 3, 29, 17, 12, 45, 86356)]}},\n",
       " {10000034: {'CCS DC 175kW (ultra)': ['0',\n",
       "    '2',\n",
       "    datetime.datetime(2022, 3, 29, 17, 12, 32, 885722)],\n",
       "   'CHAdeMO DC 75kW (fast)': ['0',\n",
       "    '1',\n",
       "    datetime.datetime(2022, 3, 29, 17, 12, 33, 40766)],\n",
       "   'CHAdeMO DC 175kW (ultra)': ['0',\n",
       "    '1',\n",
       "    datetime.datetime(2022, 3, 29, 17, 12, 33, 182472)]},\n",
       "  10000035: {'CCS DC 270kW (ultra)': ['3',\n",
       "    '7',\n",
       "    datetime.datetime(2022, 3, 29, 17, 12, 40, 237207)],\n",
       "   'CHAdeMO DC 62.5kW (fast)': ['2',\n",
       "    '4',\n",
       "    datetime.datetime(2022, 3, 29, 17, 12, 40, 417084)],\n",
       "   'Type 2 AC 7.36kW (regular)': ['0',\n",
       "    '1',\n",
       "    datetime.datetime(2022, 3, 29, 17, 12, 40, 568679)]}},\n",
       " {10000036: {'CCS DC 175kW (ultra)': ['1',\n",
       "    '4',\n",
       "    datetime.datetime(2022, 3, 29, 17, 12, 24, 221834)],\n",
       "   'CHAdeMO DC 75kW (fast)': ['1',\n",
       "    '4',\n",
       "    datetime.datetime(2022, 3, 29, 17, 12, 24, 366751)]},\n",
       "  10000037: {'CCS DC 175kW (ultra)': ['1',\n",
       "    '2',\n",
       "    datetime.datetime(2022, 3, 29, 17, 12, 32, 957581)],\n",
       "   'CHAdeMO DC 75kW (fast)': ['1',\n",
       "    '2',\n",
       "    datetime.datetime(2022, 3, 29, 17, 12, 33, 131830)]},\n",
       "  10000038: {'CCS DC 175kW (ultra)': ['1',\n",
       "    '2',\n",
       "    datetime.datetime(2022, 3, 29, 17, 12, 40, 78208)],\n",
       "   'CHAdeMO DC 75kW (fast)': ['1',\n",
       "    '2',\n",
       "    datetime.datetime(2022, 3, 29, 17, 12, 40, 287187)]}},\n",
       " {10000039: {'CCS DC 175kW (ultra)': ['4',\n",
       "    '4',\n",
       "    datetime.datetime(2022, 3, 29, 17, 12, 28, 147881)],\n",
       "   'CHAdeMO DC 75kW (fast)': ['4',\n",
       "    '4',\n",
       "    datetime.datetime(2022, 3, 29, 17, 12, 28, 609089)]},\n",
       "  10000040: {'CCS DC 175kW (ultra)': ['1',\n",
       "    '2',\n",
       "    datetime.datetime(2022, 3, 29, 17, 12, 41, 866415)],\n",
       "   'CHAdeMO DC 75kW (fast)': ['1',\n",
       "    '2',\n",
       "    datetime.datetime(2022, 3, 29, 17, 12, 41, 995328)]},\n",
       "  10000041: {'CCS DC 175kW (ultra)': ['4',\n",
       "    '4',\n",
       "    datetime.datetime(2022, 3, 29, 17, 12, 46, 444234)],\n",
       "   'CHAdeMO DC 75kW (fast)': ['4',\n",
       "    '4',\n",
       "    datetime.datetime(2022, 3, 29, 17, 12, 46, 508421)]}},\n",
       " {10000042: {'CCS DC 175kW (ultra)': ['2',\n",
       "    '3',\n",
       "    datetime.datetime(2022, 3, 29, 17, 12, 27, 687243)],\n",
       "   'CHAdeMO DC 75kW (fast)': ['2',\n",
       "    '3',\n",
       "    datetime.datetime(2022, 3, 29, 17, 12, 27, 928052)]},\n",
       "  10000043: {'CCS DC 175kW (ultra)': ['1',\n",
       "    '3',\n",
       "    datetime.datetime(2022, 3, 29, 17, 12, 37, 983387)],\n",
       "   'CHAdeMO DC 75kW (fast)': ['1',\n",
       "    '3',\n",
       "    datetime.datetime(2022, 3, 29, 17, 12, 38, 946932)]},\n",
       "  10000044: {'CCS DC 175kW (ultra)': ['3',\n",
       "    '4',\n",
       "    datetime.datetime(2022, 3, 29, 17, 12, 45, 921867)],\n",
       "   'CHAdeMO DC 75kW (fast)': ['3',\n",
       "    '4',\n",
       "    datetime.datetime(2022, 3, 29, 17, 12, 45, 990951)]}},\n",
       " {10000045: {'CCS DC 150kW (ultra)': ['0',\n",
       "    '2',\n",
       "    datetime.datetime(2022, 3, 29, 17, 12, 24, 801299)],\n",
       "   'Type 2 AC 7.36kW (regular)': ['0',\n",
       "    '1',\n",
       "    datetime.datetime(2022, 3, 29, 17, 12, 25, 130840)]},\n",
       "  10000047: {'CCS DC 175kW (ultra)': ['3',\n",
       "    '4',\n",
       "    datetime.datetime(2022, 3, 29, 17, 12, 33, 252416)],\n",
       "   'CHAdeMO DC 75kW (fast)': ['3',\n",
       "    '4',\n",
       "    datetime.datetime(2022, 3, 29, 17, 12, 33, 430294)]},\n",
       "  10000049: {'CCS DC 175kW (ultra)': ['4',\n",
       "    '4',\n",
       "    datetime.datetime(2022, 3, 29, 17, 12, 41, 278107)],\n",
       "   'CHAdeMO DC 75kW (fast)': ['4',\n",
       "    '4',\n",
       "    datetime.datetime(2022, 3, 29, 17, 12, 41, 406843)]}},\n",
       " {10000086: {'CCS DC 175kW (ultra)': ['4',\n",
       "    '4',\n",
       "    datetime.datetime(2022, 3, 29, 17, 12, 31, 913900)],\n",
       "   'CHAdeMO DC 175kW (ultra)': ['4',\n",
       "    '4',\n",
       "    datetime.datetime(2022, 3, 29, 17, 12, 32, 44146)]},\n",
       "  10000257: {'CCS DC 175kW (ultra)': ['0',\n",
       "    '1',\n",
       "    datetime.datetime(2022, 3, 29, 17, 12, 40, 131075)],\n",
       "   'CHAdeMO DC 75kW (fast)': ['0',\n",
       "    '1',\n",
       "    datetime.datetime(2022, 3, 29, 17, 12, 40, 329575)]}}]"
      ]
     },
     "execution_count": 72,
     "metadata": {},
     "output_type": "execute_result"
    }
   ],
   "source": [
    "results_avail"
   ]
  },
  {
   "cell_type": "code",
   "execution_count": 66,
   "metadata": {},
   "outputs": [
    {
     "data": {
      "text/plain": [
       "[11514,\n",
       " 12320,\n",
       " 12949,\n",
       " 12950,\n",
       " 10000034,\n",
       " 10000034,\n",
       " 10000035,\n",
       " 10000036,\n",
       " 10000037,\n",
       " 10000038,\n",
       " 10000039,\n",
       " 10000040,\n",
       " 10000041,\n",
       " 10000042,\n",
       " 10000043,\n",
       " 10000044,\n",
       " 10000045,\n",
       " 10000047,\n",
       " 10000049,\n",
       " 10000086,\n",
       " 10000086,\n",
       " 10000257]"
      ]
     },
     "execution_count": 66,
     "metadata": {},
     "output_type": "execute_result"
    }
   ],
   "source": [
    "Ids_to_scrape"
   ]
  },
  {
   "cell_type": "code",
   "execution_count": 33,
   "metadata": {},
   "outputs": [
    {
     "data": {
      "text/plain": [
       "[11514,\n",
       " 12320,\n",
       " 12949,\n",
       " 12950,\n",
       " 10000034,\n",
       " 10000034,\n",
       " 10000035,\n",
       " 10000036,\n",
       " 10000037,\n",
       " 10000038,\n",
       " 10000039,\n",
       " 10000040,\n",
       " 10000041,\n",
       " 10000042,\n",
       " 10000043,\n",
       " 10000044,\n",
       " 10000045,\n",
       " 10000047,\n",
       " 10000049,\n",
       " 10000086,\n",
       " 10000086,\n",
       " 10000257]"
      ]
     },
     "execution_count": 33,
     "metadata": {},
     "output_type": "execute_result"
    }
   ],
   "source": [
    "list(np.genfromtxt('ultra_ids_to_scrape.csv', delimiter=',',dtype=int))"
   ]
  },
  {
   "cell_type": "code",
   "execution_count": 54,
   "metadata": {},
   "outputs": [
    {
     "ename": "TypeError",
     "evalue": "'type' object is not iterable",
     "output_type": "error",
     "traceback": [
      "\u001b[1;31m---------------------------------------------------------------------------\u001b[0m",
      "\u001b[1;31mTypeError\u001b[0m                                 Traceback (most recent call last)",
      "\u001b[1;32m~\\AppData\\Local\\Temp/ipykernel_38948/1212843714.py\u001b[0m in \u001b[0;36m<module>\u001b[1;34m\u001b[0m\n\u001b[1;32m----> 1\u001b[1;33m \u001b[0mIds_to_scrape\u001b[0m\u001b[1;33m=\u001b[0m\u001b[0mlist\u001b[0m\u001b[1;33m(\u001b[0m\u001b[0mmap\u001b[0m\u001b[1;33m(\u001b[0m\u001b[0mnp\u001b[0m\u001b[1;33m.\u001b[0m\u001b[0mgenfromtxt\u001b[0m\u001b[1;33m(\u001b[0m\u001b[1;34m'ultra_ids_to_scrape.csv'\u001b[0m\u001b[1;33m,\u001b[0m \u001b[0mdelimiter\u001b[0m\u001b[1;33m=\u001b[0m\u001b[1;34m','\u001b[0m\u001b[1;33m)\u001b[0m\u001b[1;33m,\u001b[0m \u001b[0mint\u001b[0m\u001b[1;33m)\u001b[0m\u001b[1;33m)\u001b[0m\u001b[1;33m\u001b[0m\u001b[1;33m\u001b[0m\u001b[0m\n\u001b[0m",
      "\u001b[1;31mTypeError\u001b[0m: 'type' object is not iterable"
     ]
    }
   ],
   "source": [
    "Ids_to_scrape=list(map(np.genfromtxt('ultra_ids_to_scrape.csv', delimiter=','), int))\n"
   ]
  },
  {
   "cell_type": "code",
   "execution_count": 72,
   "metadata": {},
   "outputs": [
    {
     "name": "stdout",
     "output_type": "stream",
     "text": [
      "<class 'int'>\n",
      "<class 'int'>\n",
      "<class 'int'>\n",
      "<class 'int'>\n",
      "<class 'int'>\n",
      "<class 'int'>\n",
      "<class 'int'>\n",
      "<class 'int'>\n",
      "<class 'int'>\n",
      "<class 'int'>\n",
      "<class 'int'>\n",
      "<class 'int'>\n",
      "<class 'int'>\n",
      "<class 'int'>\n",
      "<class 'int'>\n",
      "<class 'int'>\n",
      "<class 'int'>\n",
      "<class 'int'>\n",
      "<class 'int'>\n",
      "<class 'int'>\n",
      "<class 'int'>\n",
      "<class 'int'>\n"
     ]
    }
   ],
   "source": [
    "Ids_to_scrape=map(int, list(np.genfromtxt('ultra_ids_to_scrape.csv', delimiter=',')))\n",
    "for i in Ids_to_scrape:\n",
    "    print(type(i))\n"
   ]
  },
  {
   "cell_type": "code",
   "execution_count": 3,
   "metadata": {},
   "outputs": [],
   "source": [
    "Ids_to_scrape=list(map(int, list(np.genfromtxt('ultra_ids_to_scrape.csv', delimiter=','))))\n"
   ]
  },
  {
   "cell_type": "code",
   "execution_count": 8,
   "metadata": {},
   "outputs": [
    {
     "data": {
      "text/plain": [
       "{11514: {'CCS DC 150kW (ultra)': ['3',\n",
       "   '4',\n",
       "   datetime.datetime(2022, 3, 29, 16, 1, 46, 284350)]},\n",
       " 12320: {'CCS DC 150kW (ultra)': ['1',\n",
       "   '4',\n",
       "   datetime.datetime(2022, 3, 29, 16, 1, 49, 222284)]}}"
      ]
     },
     "execution_count": 8,
     "metadata": {},
     "output_type": "execute_result"
    }
   ],
   "source": [
    "result = AS.get_availability(Ids_to_scrape[0:2])\n",
    "\n",
    "result"
   ]
  },
  {
   "cell_type": "code",
   "execution_count": 4,
   "metadata": {},
   "outputs": [
    {
     "data": {
      "text/plain": [
       "[11514,\n",
       " 12320,\n",
       " 12949,\n",
       " 12950,\n",
       " 10000034,\n",
       " 10000034,\n",
       " 10000035,\n",
       " 10000036,\n",
       " 10000037,\n",
       " 10000038,\n",
       " 10000039,\n",
       " 10000040,\n",
       " 10000041,\n",
       " 10000042,\n",
       " 10000043,\n",
       " 10000044,\n",
       " 10000045,\n",
       " 10000047,\n",
       " 10000049,\n",
       " 10000086,\n",
       " 10000086,\n",
       " 10000257]"
      ]
     },
     "execution_count": 4,
     "metadata": {},
     "output_type": "execute_result"
    }
   ],
   "source": [
    "Ids_to_scrape"
   ]
  }
 ],
 "metadata": {
  "interpreter": {
   "hash": "2274e060222eb36e66e0b601fc1f599242ae84a9584f6467ee18162c4b6ca902"
  },
  "kernelspec": {
   "display_name": "Python 3.8.11 ('base')",
   "language": "python",
   "name": "python3"
  },
  "language_info": {
   "codemirror_mode": {
    "name": "ipython",
    "version": 3
   },
   "file_extension": ".py",
   "mimetype": "text/x-python",
   "name": "python",
   "nbconvert_exporter": "python",
   "pygments_lexer": "ipython3",
   "version": "3.8.11"
  },
  "orig_nbformat": 4
 },
 "nbformat": 4,
 "nbformat_minor": 2
}
