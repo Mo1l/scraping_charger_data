{
 "cells": [
  {
   "cell_type": "code",
   "execution_count": 3,
   "metadata": {},
   "outputs": [
    {
     "name": "stdout",
     "output_type": "stream",
     "text": [
      "The autoreload extension is already loaded. To reload it, use:\n",
      "  %reload_ext autoreload\n"
     ]
    }
   ],
   "source": [
    "import availability_scraper as AS\n",
    "import numpy as np\n",
    "\n",
    "%load_ext autoreload\n",
    "%autoreload 2"
   ]
  },
  {
   "cell_type": "code",
   "execution_count": 6,
   "metadata": {},
   "outputs": [
    {
     "name": "stdout",
     "output_type": "stream",
     "text": [
      "10000036\n",
      "10000042\n",
      "11514\n",
      "10000086\n",
      "10000045\n",
      "12950\n",
      "10000039\n",
      "10000086\n",
      "12320\n",
      "10000034\n",
      "10000043\n",
      "10000037\n",
      "10000257\n",
      "12949\n",
      "10000040\n",
      "10000035\n",
      "10000047\n",
      "10000038\n",
      "10000044\n",
      "10000041\n",
      "10000049\n"
     ]
    }
   ],
   "source": [
    "# load \n",
    "Ids_to_scrape=list(map(int, list(np.genfromtxt('ultra_ids_to_scrape.csv', delimiter=','))))\n",
    "\n",
    "results_avail=AS.set_up_threads_avail(Ids_to_scrape,7)\n",
    "\n",
    "df=AS.into_DataFrame(Ids_to_scrape, results_avail)\n",
    "\n",
    "AS.save_DataFrame_to_csv(df, 'ultra')\n",
    "\n"
   ]
  }
 ],
 "metadata": {
  "interpreter": {
   "hash": "2274e060222eb36e66e0b601fc1f599242ae84a9584f6467ee18162c4b6ca902"
  },
  "kernelspec": {
   "display_name": "Python 3.8.11 ('base')",
   "language": "python",
   "name": "python3"
  },
  "language_info": {
   "codemirror_mode": {
    "name": "ipython",
    "version": 3
   },
   "file_extension": ".py",
   "mimetype": "text/x-python",
   "name": "python",
   "nbconvert_exporter": "python",
   "pygments_lexer": "ipython3",
   "version": "3.8.11"
  },
  "orig_nbformat": 4
 },
 "nbformat": 4,
 "nbformat_minor": 2
}
